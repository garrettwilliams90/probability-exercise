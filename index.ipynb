{
 "cells": [
  {
   "cell_type": "markdown",
   "metadata": {},
   "source": [
    "# *GO TO ILLUMIDESK FILES FOR MY SOLUTIONS*"
   ]
  },
  {
   "cell_type": "markdown",
   "metadata": {},
   "source": [
    "# Probability of road conditions\n",
    "<img src=\"roads.jpg\" alt=\"Image of roads\" width=\"500\"/>"
   ]
  },
  {
   "cell_type": "code",
   "execution_count": 4,
   "metadata": {
    "ExecuteTime": {
     "end_time": "2021-01-12T14:36:16.632649Z",
     "start_time": "2021-01-12T14:36:16.619748Z"
    }
   },
   "outputs": [
    {
     "data": {
      "text/html": [
       "<div>\n",
       "<style scoped>\n",
       "    .dataframe tbody tr th:only-of-type {\n",
       "        vertical-align: middle;\n",
       "    }\n",
       "\n",
       "    .dataframe tbody tr th {\n",
       "        vertical-align: top;\n",
       "    }\n",
       "\n",
       "    .dataframe thead th {\n",
       "        text-align: right;\n",
       "    }\n",
       "</style>\n",
       "<table border=\"1\" class=\"dataframe\">\n",
       "  <thead>\n",
       "    <tr style=\"text-align: right;\">\n",
       "      <th></th>\n",
       "      <th>Clear</th>\n",
       "      <th>Wet</th>\n",
       "      <th>Icy</th>\n",
       "    </tr>\n",
       "  </thead>\n",
       "  <tbody>\n",
       "    <tr>\n",
       "      <th>Clear</th>\n",
       "      <td>180</td>\n",
       "      <td>15</td>\n",
       "      <td>0</td>\n",
       "    </tr>\n",
       "    <tr>\n",
       "      <th>Wet</th>\n",
       "      <td>30</td>\n",
       "      <td>40</td>\n",
       "      <td>27</td>\n",
       "    </tr>\n",
       "    <tr>\n",
       "      <th>Icy</th>\n",
       "      <td>0</td>\n",
       "      <td>22</td>\n",
       "      <td>51</td>\n",
       "    </tr>\n",
       "  </tbody>\n",
       "</table>\n",
       "</div>"
      ],
      "text/plain": [
       "       Clear  Wet  Icy\n",
       "Clear    180   15    0\n",
       "Wet       30   40   27\n",
       "Icy        0   22   51"
      ]
     },
     "execution_count": 4,
     "metadata": {},
     "output_type": "execute_result"
    }
   ],
   "source": [
    "# Run this cell unchanged\n",
    "import pandas as pd\n",
    "from test_background import pkl_dump, test_obj_dict, run_test_dict, run_test\n",
    "\n",
    "data = [{'Clear': 180, 'Wet': 15, 'Icy': 0},\n",
    "       {'Clear': 30, 'Wet': 40, 'Icy': 27},\n",
    "       {'Clear': 0, 'Wet': 22, 'Icy': 51}]\n",
    "\n",
    "df = pd.DataFrame(data, index = ['Clear', 'Wet', 'Icy'])\n",
    "df.head()"
   ]
  },
  {
   "cell_type": "code",
   "execution_count": null,
   "metadata": {},
   "outputs": [],
   "source": [
    "#__SOLUTION__\n",
    "# Run this cell unchanged\n",
    "import pandas as pd\n",
    "from test_background import pkl_dump, test_obj_dict, run_test_dict, run_test\n",
    "\n",
    "data = [{'Clear': 180, 'Wet': 15, 'Icy': 0},\n",
    "       {'Clear': 30, 'Wet': 40, 'Icy': 27},\n",
    "       {'Clear': 0, 'Wet': 22, 'Icy': 51}]\n",
    "\n",
    "df = pd.DataFrame(data, index = ['Clear', 'Wet', 'Icy'])\n",
    "df.head()"
   ]
  },
  {
   "cell_type": "markdown",
   "metadata": {
    "ExecuteTime": {
     "end_time": "2020-06-02T02:54:12.530981Z",
     "start_time": "2020-06-02T02:54:12.523178Z"
    }
   },
   "source": [
    "**The above dataframe** represents the joint road conditions for two neighboring streets over a time frame of 365 days. \n",
    "\n",
    "The index represents `Street 1` and the columns represent `Street  2`\n",
    "\n",
    "The values represent the number of days the two road conditions for each street occurred on the same day.\n",
    ">ie. There were 15 days out of 365 that `Street 1` had Clear conditions and `Street 2` had Wet conditions"
   ]
  },
  {
   "cell_type": "markdown",
   "metadata": {},
   "source": [
    "## Question 1"
   ]
  },
  {
   "cell_type": "markdown",
   "metadata": {},
   "source": [
    "What is the probability of there being Clear conditions for both streets at the same time?\n",
    "\n",
    "$P(Street 1= Clear ∩ Street 2=Clear)$"
   ]
  },
  {
   "cell_type": "code",
   "execution_count": null,
   "metadata": {},
   "outputs": [],
   "source": [
    "# Your code here\n",
    "# 0.4931506849315068"
   ]
  },
  {
   "cell_type": "code",
   "execution_count": 5,
   "metadata": {
    "ExecuteTime": {
     "end_time": "2021-01-12T14:44:21.614810Z",
     "start_time": "2021-01-12T14:44:21.610682Z"
    }
   },
   "outputs": [
    {
     "data": {
      "text/plain": [
       "0.4931506849315068"
      ]
     },
     "execution_count": 5,
     "metadata": {},
     "output_type": "execute_result"
    }
   ],
   "source": [
    "#__SOLUTION__\n",
    "clear_street1_clear_street2 = 180/365 \n",
    "clear_street1_clear_street2"
   ]
  },
  {
   "cell_type": "markdown",
   "metadata": {},
   "source": [
    "## Question 2\n",
    "\n",
    "What is the probability of it not being Icy on `Street1` and Icy on `Street2`?\n",
    "\n",
    "$P(Street1 ∈ {Clear ∪ Wet} ∩ Street2=Icy)$"
   ]
  },
  {
   "cell_type": "code",
   "execution_count": null,
   "metadata": {},
   "outputs": [],
   "source": [
    "# Your code here\n",
    "# 0.07397260273972603"
   ]
  },
  {
   "cell_type": "code",
   "execution_count": 6,
   "metadata": {
    "ExecuteTime": {
     "end_time": "2021-01-12T14:44:37.161038Z",
     "start_time": "2021-01-12T14:44:37.156298Z"
    }
   },
   "outputs": [
    {
     "data": {
      "text/plain": [
       "0.07397260273972603"
      ]
     },
     "execution_count": 6,
     "metadata": {},
     "output_type": "execute_result"
    }
   ],
   "source": [
    "#__SOLUTION__\n",
    "not_icy_street1_icy_street2 = 0/365 + 27/365\n",
    "not_icy_street1_icy_street2"
   ]
  },
  {
   "cell_type": "markdown",
   "metadata": {},
   "source": [
    "## Question 3"
   ]
  },
  {
   "cell_type": "markdown",
   "metadata": {},
   "source": [
    "What is the probability of it being Clear on `Street2` <u>regardless of the conditions</u> on `Street1`?\n",
    "\n",
    "$$P(Street2=Clear) =$$ \n",
    "$$P(Street2=Clear ∩ Street1=Clear) + $$\n",
    "$$P(Street2=Clear ∩ Street1=Wet)+ $$\n",
    "$$P(Street2=Clear ∩ Street1=Icy)$$"
   ]
  },
  {
   "cell_type": "code",
   "execution_count": null,
   "metadata": {},
   "outputs": [],
   "source": [
    "# Your code here\n",
    "# 0.5753424657534246"
   ]
  },
  {
   "cell_type": "code",
   "execution_count": 7,
   "metadata": {
    "ExecuteTime": {
     "end_time": "2021-01-12T14:48:42.303228Z",
     "start_time": "2021-01-12T14:48:42.298224Z"
    }
   },
   "outputs": [
    {
     "data": {
      "text/plain": [
       "0.5753424657534246"
      ]
     },
     "execution_count": 7,
     "metadata": {},
     "output_type": "execute_result"
    }
   ],
   "source": [
    "#__SOLUTION__\n",
    "clear_street2 = df.Clear.sum()/365\n",
    "clear_street2"
   ]
  },
  {
   "cell_type": "markdown",
   "metadata": {},
   "source": [
    "## Question 4\n",
    "\n",
    "What is the probability  of it being Clear on ```Street1``` given that it is Clear on ```Street2```?\n",
    "\n",
    "$P(Street1=Clear|Street2=Clear) = \\displaystyle \\frac{P(Street1=Clear∩Street2=Clear)}{P(Street2=Clear)}$"
   ]
  },
  {
   "cell_type": "code",
   "execution_count": null,
   "metadata": {},
   "outputs": [],
   "source": [
    "# Your code here\n",
    "# 0.8571428571428571"
   ]
  },
  {
   "cell_type": "code",
   "execution_count": 8,
   "metadata": {
    "ExecuteTime": {
     "end_time": "2021-01-12T14:48:43.674998Z",
     "start_time": "2021-01-12T14:48:43.665057Z"
    }
   },
   "outputs": [
    {
     "data": {
      "text/plain": [
       "0.8571428571428571"
      ]
     },
     "execution_count": 8,
     "metadata": {},
     "output_type": "execute_result"
    }
   ],
   "source": [
    "#__SOLUTION__\n",
    "clear_street1_given_clear_street2 = clear_street1_clear_street2/clear_street2\n",
    "clear_street1_given_clear_street2"
   ]
  },
  {
   "cell_type": "markdown",
   "metadata": {
    "ExecuteTime": {
     "end_time": "2020-06-02T02:45:51.728741Z",
     "start_time": "2020-06-02T02:45:51.723087Z"
    }
   },
   "source": [
    "## Question 5\n",
    "\n",
    "What is the probability of it being Clear on `Street2` given that it is Clear on `Street1`?\n",
    "\n",
    "$P(Street2=Clear|Street1=Clear) = \\displaystyle \\frac{P(Street2=Clear∩Street1=Clear)}{P(Street1=Clear)}$"
   ]
  },
  {
   "cell_type": "code",
   "execution_count": null,
   "metadata": {},
   "outputs": [],
   "source": [
    "# Your code here\n",
    "# 0.923076923076923"
   ]
  },
  {
   "cell_type": "code",
   "execution_count": 9,
   "metadata": {
    "ExecuteTime": {
     "end_time": "2021-01-12T14:51:54.258572Z",
     "start_time": "2021-01-12T14:51:54.252758Z"
    }
   },
   "outputs": [
    {
     "data": {
      "text/plain": [
       "0.923076923076923"
      ]
     },
     "execution_count": 9,
     "metadata": {},
     "output_type": "execute_result"
    }
   ],
   "source": [
    "#__SOLUTION__\n",
    "clear_street1 = df.loc['Clear'].sum()/365\n",
    "clear_street2_given_clear_street1 = clear_street1_clear_street2/clear_street1\n",
    "clear_street2_given_clear_street1"
   ]
  }
 ],
 "metadata": {
  "hide_input": false,
  "kernelspec": {
   "display_name": "Python 3",
   "language": "python",
   "name": "python3"
  },
  "language_info": {
   "codemirror_mode": {
    "name": "ipython",
    "version": 3
   },
   "file_extension": ".py",
   "mimetype": "text/x-python",
   "name": "python",
   "nbconvert_exporter": "python",
   "pygments_lexer": "ipython3",
   "version": "3.8.5"
  },
  "toc": {
   "base_numbering": 1,
   "nav_menu": {},
   "number_sections": false,
   "sideBar": true,
   "skip_h1_title": true,
   "title_cell": "Table of Contents",
   "title_sidebar": "Contents",
   "toc_cell": false,
   "toc_position": {},
   "toc_section_display": true,
   "toc_window_display": false
  },
  "varInspector": {
   "cols": {
    "lenName": 16,
    "lenType": 16,
    "lenVar": 40
   },
   "kernels_config": {
    "python": {
     "delete_cmd_postfix": "",
     "delete_cmd_prefix": "del ",
     "library": "var_list.py",
     "varRefreshCmd": "print(var_dic_list())"
    },
    "r": {
     "delete_cmd_postfix": ") ",
     "delete_cmd_prefix": "rm(",
     "library": "var_list.r",
     "varRefreshCmd": "cat(var_dic_list()) "
    }
   },
   "types_to_exclude": [
    "module",
    "function",
    "builtin_function_or_method",
    "instance",
    "_Feature"
   ],
   "window_display": false
  }
 },
 "nbformat": 4,
 "nbformat_minor": 4
}
